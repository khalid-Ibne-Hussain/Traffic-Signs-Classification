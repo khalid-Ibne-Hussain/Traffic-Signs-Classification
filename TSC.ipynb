{
 "cells": [
  {
   "cell_type": "markdown",
   "id": "8fe40d61",
   "metadata": {},
   "source": [
    "# Import Liraries"
   ]
  },
  {
   "cell_type": "code",
   "execution_count": 3,
   "id": "7136883d",
   "metadata": {},
   "outputs": [],
   "source": [
    "import os\n",
    "import numpy as np\n",
    "import pandas as pd\n",
    "import matplotlib.pyplot as plt\n",
    "from PIL import Image\n",
    "import tensorflow as tf\n",
    "from tensorflow.keras.utils import to_categorical\n",
    "from tensorflow.keras.layers import Conv2D, Dense, Flatten, MaxPool2D, Dropout"
   ]
  },
  {
   "cell_type": "markdown",
   "id": "15fea16f",
   "metadata": {},
   "source": [
    "# dataset path"
   ]
  },
  {
   "cell_type": "code",
   "execution_count": 4,
   "id": "12b3edb4",
   "metadata": {},
   "outputs": [],
   "source": [
    "import os\n",
    "os.chdir('F:\\ML project\\Traffic_Sign_Recognition')"
   ]
  },
  {
   "cell_type": "markdown",
   "id": "6ee46560",
   "metadata": {},
   "source": [
    "# Store data, label in the list"
   ]
  },
  {
   "cell_type": "code",
   "execution_count": 5,
   "id": "803e0380",
   "metadata": {},
   "outputs": [],
   "source": [
    "data = []\n",
    "labels = []\n",
    "classes = 43"
   ]
  },
  {
   "cell_type": "markdown",
   "id": "8bed4c4b",
   "metadata": {},
   "source": [
    "# Preprocess the images"
   ]
  },
  {
   "cell_type": "code",
   "execution_count": 6,
   "id": "dfbffee7",
   "metadata": {},
   "outputs": [
    {
     "name": "stdout",
     "output_type": "stream",
     "text": [
      "success\n"
     ]
    }
   ],
   "source": [
    "imgs_path = \"F:\\ML project\\Traffic_Sign_Recognition\\Train\"\n",
    "for i in range(classes):\n",
    "    img_path = os.path.join(imgs_path, str(i)) #0-42\n",
    "    for img in os.listdir(img_path):\n",
    "        im = Image.open(img_path + '/' + img)\n",
    "        im = im.resize((30,30))\n",
    "        im = np.array(im)\n",
    "        data.append(im)\n",
    "        labels.append(i)\n",
    "print(\"success\")        "
   ]
  },
  {
   "cell_type": "markdown",
   "id": "568ee0e8",
   "metadata": {},
   "source": [
    "# List into numpy arrays"
   ]
  },
  {
   "cell_type": "code",
   "execution_count": 7,
   "id": "297275ac",
   "metadata": {},
   "outputs": [],
   "source": [
    "data = np.array(data)\n",
    "labels = np.array(labels)"
   ]
  },
  {
   "cell_type": "code",
   "execution_count": 8,
   "id": "ba4559f7",
   "metadata": {},
   "outputs": [
    {
     "name": "stdout",
     "output_type": "stream",
     "text": [
      "(39209, 30, 30, 3) (39209,)\n"
     ]
    }
   ],
   "source": [
    "print(data.shape, labels.shape) "
   ]
  },
  {
   "cell_type": "code",
   "execution_count": 9,
   "id": "9b1016ac",
   "metadata": {},
   "outputs": [
    {
     "name": "stdout",
     "output_type": "stream",
     "text": [
      "training shape:  (31367, 30, 30, 3) (31367,)\n",
      "testing shape:  (7842, 30, 30, 3) (7842,)\n"
     ]
    }
   ],
   "source": [
    "from sklearn.model_selection import train_test_split\n",
    "x_train, x_test, y_train, y_test = train_test_split(data, labels, test_size=0.2, random_state=42)\n",
    "print(\"training shape: \",x_train.shape, y_train.shape)\n",
    "print(\"testing shape: \",x_test.shape, y_test.shape)"
   ]
  },
  {
   "cell_type": "markdown",
   "id": "7f814bf8",
   "metadata": {},
   "source": [
    "# Convert labels to onehot encoding"
   ]
  },
  {
   "cell_type": "code",
   "execution_count": 10,
   "id": "8352b180",
   "metadata": {},
   "outputs": [],
   "source": [
    "y_train = to_categorical(y_train, 43)\n",
    "y_test = to_categorical(y_test, 43)"
   ]
  },
  {
   "cell_type": "code",
   "execution_count": 11,
   "id": "2a263ada",
   "metadata": {},
   "outputs": [],
   "source": [
    "from tensorflow.keras.models import Sequential"
   ]
  },
  {
   "cell_type": "markdown",
   "id": "57d22c74",
   "metadata": {},
   "source": [
    "# Build the CNN model"
   ]
  },
  {
   "cell_type": "code",
   "execution_count": 12,
   "id": "cd2e308f",
   "metadata": {},
   "outputs": [],
   "source": [
    "model = Sequential()\n",
    "model.add(Conv2D(filters=32, kernel_size=(5,5), activation=\"relu\", input_shape=x_train.shape[1:]))\n",
    "model.add(Conv2D(filters=32, kernel_size=(5,5), activation=\"relu\"))\n",
    "model.add(MaxPool2D(pool_size=(2,2)))\n",
    "model.add(Dropout(rate=0.25))\n",
    "model.add(Conv2D(filters=64, kernel_size=(3,3), activation=\"relu\"))\n",
    "model.add(Conv2D(filters=64, kernel_size=(3,3), activation=\"relu\"))\n",
    "model.add(MaxPool2D(pool_size=(2,2)))\n",
    "model.add(Dropout(rate=0.25))\n",
    "model.add(Flatten())\n",
    "model.add(Dense(256, activation=\"relu\"))\n",
    "model.add(Dropout(rate=0.5))\n",
    "model.add(Dense(43, activation=\"softmax\"))"
   ]
  },
  {
   "cell_type": "code",
   "execution_count": 13,
   "id": "1a062dc1",
   "metadata": {},
   "outputs": [],
   "source": [
    "# Compilation of the model\n",
    "model.compile(loss=\"categorical_crossentropy\", optimizer=\"adam\", metrics=[\"accuracy\"])"
   ]
  },
  {
   "cell_type": "code",
   "execution_count": 14,
   "id": "fe4b90df",
   "metadata": {},
   "outputs": [
    {
     "name": "stdout",
     "output_type": "stream",
     "text": [
      "Epoch 1/15\n",
      "491/491 [==============================] - 27s 53ms/step - loss: 2.0721 - accuracy: 0.5123 - val_loss: 0.3473 - val_accuracy: 0.9250\n",
      "Epoch 2/15\n",
      "491/491 [==============================] - 26s 54ms/step - loss: 0.5126 - accuracy: 0.8563 - val_loss: 0.1446 - val_accuracy: 0.9708\n",
      "Epoch 3/15\n",
      "491/491 [==============================] - 26s 53ms/step - loss: 0.3013 - accuracy: 0.9142 - val_loss: 0.0729 - val_accuracy: 0.9820\n",
      "Epoch 4/15\n",
      "491/491 [==============================] - 27s 54ms/step - loss: 0.2236 - accuracy: 0.9372 - val_loss: 0.0582 - val_accuracy: 0.9843\n",
      "Epoch 5/15\n",
      "491/491 [==============================] - 26s 54ms/step - loss: 0.1856 - accuracy: 0.9487 - val_loss: 0.0498 - val_accuracy: 0.9864\n",
      "Epoch 6/15\n",
      "491/491 [==============================] - 27s 55ms/step - loss: 0.1660 - accuracy: 0.9553 - val_loss: 0.0700 - val_accuracy: 0.9820\n",
      "Epoch 7/15\n",
      "491/491 [==============================] - 29s 58ms/step - loss: 0.1715 - accuracy: 0.9533 - val_loss: 0.0457 - val_accuracy: 0.9893\n",
      "Epoch 8/15\n",
      "491/491 [==============================] - 30s 60ms/step - loss: 0.1511 - accuracy: 0.9602 - val_loss: 0.0361 - val_accuracy: 0.9894\n",
      "Epoch 9/15\n",
      "491/491 [==============================] - 29s 59ms/step - loss: 0.1394 - accuracy: 0.9627 - val_loss: 0.0320 - val_accuracy: 0.9929\n",
      "Epoch 10/15\n",
      "491/491 [==============================] - 29s 59ms/step - loss: 0.1337 - accuracy: 0.9641 - val_loss: 0.0422 - val_accuracy: 0.9904\n",
      "Epoch 11/15\n",
      "491/491 [==============================] - 29s 60ms/step - loss: 0.1324 - accuracy: 0.9660 - val_loss: 0.0285 - val_accuracy: 0.9932\n",
      "Epoch 12/15\n",
      "491/491 [==============================] - 27s 56ms/step - loss: 0.1340 - accuracy: 0.9657 - val_loss: 0.0335 - val_accuracy: 0.9912\n",
      "Epoch 13/15\n",
      "491/491 [==============================] - 29s 58ms/step - loss: 0.1411 - accuracy: 0.9639 - val_loss: 0.0371 - val_accuracy: 0.9909\n",
      "Epoch 14/15\n",
      "491/491 [==============================] - 28s 57ms/step - loss: 0.1257 - accuracy: 0.9674 - val_loss: 0.0556 - val_accuracy: 0.9846\n",
      "Epoch 15/15\n",
      "491/491 [==============================] - 28s 57ms/step - loss: 0.1134 - accuracy: 0.9720 - val_loss: 0.0637 - val_accuracy: 0.9832\n"
     ]
    }
   ],
   "source": [
    "epochs = 15\n",
    "history = model.fit(x_train, y_train, epochs=epochs, batch_size=64, validation_data=(x_test, y_test))"
   ]
  },
  {
   "cell_type": "markdown",
   "id": "ba67e64c",
   "metadata": {},
   "source": [
    "# Testing on test data"
   ]
  },
  {
   "cell_type": "code",
   "execution_count": 15,
   "id": "614b9b61",
   "metadata": {},
   "outputs": [],
   "source": [
    "def testing(testcsv):\n",
    "    y_test = pd.read_csv(testcsv)\n",
    "    label = y_test[\"ClassId\"].values\n",
    "    imgs = y_test[\"Path\"].values\n",
    "    data=[]\n",
    "    for img in imgs:\n",
    "        image = Image.open(img)\n",
    "        image = image.resize((30,30))\n",
    "        data.append(np.array(image))\n",
    "    x_test=np.array(data)\n",
    "    return x_test,label"
   ]
  },
  {
   "cell_type": "code",
   "execution_count": 16,
   "id": "a6f22187",
   "metadata": {},
   "outputs": [],
   "source": [
    "x_test, label = testing('Test.csv')"
   ]
  },
  {
   "cell_type": "code",
   "execution_count": 18,
   "id": "6a575b51",
   "metadata": {},
   "outputs": [
    {
     "data": {
      "text/plain": [
       "array([16,  1, 38, ..., 15,  7, 10], dtype=int64)"
      ]
     },
     "execution_count": 18,
     "metadata": {},
     "output_type": "execute_result"
    }
   ],
   "source": [
    "#y_pred = model.predict_classes(x_test)\n",
    "#y_pred\n",
    "\n",
    "y_pred = np.argmax(model.predict(x_test), axis=-1)\n",
    "y_pred"
   ]
  },
  {
   "cell_type": "markdown",
   "id": "b07c3b41",
   "metadata": {},
   "source": [
    "# Accuracy with the test data"
   ]
  },
  {
   "cell_type": "code",
   "execution_count": 19,
   "id": "22e6fc4d",
   "metadata": {},
   "outputs": [
    {
     "name": "stdout",
     "output_type": "stream",
     "text": [
      "0.9510688836104513\n"
     ]
    }
   ],
   "source": [
    "from sklearn.metrics import accuracy_score\n",
    "print(accuracy_score(label, y_pred))"
   ]
  },
  {
   "cell_type": "markdown",
   "id": "441badd9",
   "metadata": {},
   "source": [
    "# Save the model"
   ]
  },
  {
   "cell_type": "code",
   "execution_count": 20,
   "id": "12d81a99",
   "metadata": {},
   "outputs": [],
   "source": [
    "model.save(\"TSC.h5\")"
   ]
  }
 ],
 "metadata": {
  "kernelspec": {
   "display_name": "Python 3",
   "language": "python",
   "name": "python3"
  },
  "language_info": {
   "codemirror_mode": {
    "name": "ipython",
    "version": 3
   },
   "file_extension": ".py",
   "mimetype": "text/x-python",
   "name": "python",
   "nbconvert_exporter": "python",
   "pygments_lexer": "ipython3",
   "version": "3.8.8"
  }
 },
 "nbformat": 4,
 "nbformat_minor": 5
}
